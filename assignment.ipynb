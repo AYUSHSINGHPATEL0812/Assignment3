{
 "cells": [
  {
   "cell_type": "markdown",
   "id": "9ed2d244-d393-4a49-a1d2-b5d34537c64f",
   "metadata": {},
   "source": [
    "  ## Q2="
   ]
  },
  {
   "cell_type": "code",
   "execution_count": null,
   "id": "d9c2c2d2-e639-45c4-b237-52a86c95616f",
   "metadata": {},
   "outputs": [],
   "source": []
  },
  {
   "cell_type": "code",
   "execution_count": 1,
   "id": "e19e4a49-1643-4beb-8190-f4a31e1fb9fe",
   "metadata": {},
   "outputs": [],
   "source": [
    "l = [1,2,3,45,6,7,8,9,10]"
   ]
  },
  {
   "cell_type": "code",
   "execution_count": 2,
   "id": "7c8c4252-1ccd-4254-9d08-318b8426c786",
   "metadata": {},
   "outputs": [],
   "source": [
    "def sq(x):\n",
    "    return x**2"
   ]
  },
  {
   "cell_type": "code",
   "execution_count": 5,
   "id": "9772faf4-d906-44e9-97a5-e0a0d8efa594",
   "metadata": {},
   "outputs": [
    {
     "data": {
      "text/plain": [
       "[1, 4, 9, 2025, 36, 49, 64, 81, 100]"
      ]
     },
     "execution_count": 5,
     "metadata": {},
     "output_type": "execute_result"
    }
   ],
   "source": [
    "list (map( sq, l))"
   ]
  },
  {
   "cell_type": "code",
   "execution_count": null,
   "id": "9a8ff3f6-609e-49a3-b7ed-6e2598f3db4a",
   "metadata": {},
   "outputs": [],
   "source": []
  },
  {
   "cell_type": "code",
   "execution_count": null,
   "id": "4a3c0f7e-47c5-4de6-9628-1993fc29b2bd",
   "metadata": {},
   "outputs": [],
   "source": [
    "##  Q3 "
   ]
  },
  {
   "cell_type": "code",
   "execution_count": 16,
   "id": "66a2ff3e-47f0-4c28-8597-d9e3fc39db38",
   "metadata": {},
   "outputs": [
    {
     "name": "stdout",
     "output_type": "stream",
     "text": [
      "[1, 2, 3, 4, 5, 6, 7, 8, 9, 10]\n"
     ]
    }
   ],
   "source": [
    "l1 = range(1,11)\n",
    "print(list(l1))"
   ]
  },
  {
   "cell_type": "code",
   "execution_count": 17,
   "id": "cc5279b6-610d-4442-87cf-e45cf838d69d",
   "metadata": {},
   "outputs": [
    {
     "name": "stdout",
     "output_type": "stream",
     "text": [
      "['1', '2', '3', '4', '5', '6', '7', '8', '9', '10']\n"
     ]
    }
   ],
   "source": [
    "print(list(map(str,l1)))"
   ]
  },
  {
   "cell_type": "code",
   "execution_count": null,
   "id": "7294e1f3-e82b-4979-bb6e-b56ebe783535",
   "metadata": {},
   "outputs": [],
   "source": []
  },
  {
   "cell_type": "code",
   "execution_count": null,
   "id": "21a5c8a3-672a-41c4-ac64-c377181bdf1c",
   "metadata": {},
   "outputs": [],
   "source": [
    "## Q4"
   ]
  },
  {
   "cell_type": "code",
   "execution_count": 18,
   "id": "7f1a6de5-f08a-4720-a180-363acb40d021",
   "metadata": {},
   "outputs": [
    {
     "name": "stdout",
     "output_type": "stream",
     "text": [
      "[1, 2, 3, 4, 5, 6, 7, 8, 9, 10, 11, 12, 13, 14, 15, 16, 17, 18, 19, 20, 21, 22, 23, 24, 25]\n"
     ]
    }
   ],
   "source": [
    "l2 = range(1,26)\n",
    "print(list(l2))"
   ]
  },
  {
   "cell_type": "code",
   "execution_count": 20,
   "id": "9a7a1054-e6e1-44e0-89c0-7f366894b418",
   "metadata": {},
   "outputs": [],
   "source": [
    "from functools import reduce "
   ]
  },
  {
   "cell_type": "code",
   "execution_count": 21,
   "id": "ca616ca2-870e-4c9d-85d7-1151508b6e91",
   "metadata": {},
   "outputs": [
    {
     "data": {
      "text/plain": [
       "325"
      ]
     },
     "execution_count": 21,
     "metadata": {},
     "output_type": "execute_result"
    }
   ],
   "source": [
    "reduce(lambda x,y : x+y , l2)"
   ]
  },
  {
   "cell_type": "code",
   "execution_count": null,
   "id": "bec34dc6-f052-4119-84fa-a3bb3c2536dd",
   "metadata": {},
   "outputs": [],
   "source": []
  },
  {
   "cell_type": "code",
   "execution_count": 22,
   "id": "904440c7-51f7-4f82-a418-d049800a8da9",
   "metadata": {},
   "outputs": [],
   "source": [
    "##  Q5  \n"
   ]
  },
  {
   "cell_type": "code",
   "execution_count": 24,
   "id": "0d374a49-2c40-4ccc-8bb9-13bf7855b82f",
   "metadata": {},
   "outputs": [],
   "source": [
    "l3 = [2,3,6,9,27,60,90,120,55,46]"
   ]
  },
  {
   "cell_type": "raw",
   "id": "2b5610ec-9fce-4388-8561-0d1ecd78116e",
   "metadata": {},
   "source": []
  },
  {
   "cell_type": "code",
   "execution_count": 26,
   "id": "c367f098-a265-4d3b-8d5e-785d23fc870b",
   "metadata": {},
   "outputs": [
    {
     "data": {
      "text/plain": [
       "[2, 6, 60, 90, 120, 46]"
      ]
     },
     "execution_count": 26,
     "metadata": {},
     "output_type": "execute_result"
    }
   ],
   "source": [
    "list(filter(lambda x : x % 2 == 0 , l3 ))"
   ]
  },
  {
   "cell_type": "code",
   "execution_count": 27,
   "id": "16495614-23ce-45e0-a684-d4ef7a2efedb",
   "metadata": {},
   "outputs": [
    {
     "data": {
      "text/plain": [
       "[3, 6, 9, 27, 60, 90, 120]"
      ]
     },
     "execution_count": 27,
     "metadata": {},
     "output_type": "execute_result"
    }
   ],
   "source": [
    "list(filter(lambda x : x % 3 == 0 , l3 ))"
   ]
  },
  {
   "cell_type": "code",
   "execution_count": null,
   "id": "344e6b26-254b-4346-9ec4-a361d13110e2",
   "metadata": {},
   "outputs": [],
   "source": []
  },
  {
   "cell_type": "code",
   "execution_count": null,
   "id": "706b4e05-f8b4-4377-b712-fb768c8e8a59",
   "metadata": {},
   "outputs": [],
   "source": []
  },
  {
   "cell_type": "code",
   "execution_count": 13,
   "id": "74c9412c-561e-477f-bbc4-9e368ef18b04",
   "metadata": {},
   "outputs": [],
   "source": [
    "l3 = ['python', 'php', 'aba', 'radar', 'level']"
   ]
  },
  {
   "cell_type": "code",
   "execution_count": 19,
   "id": "df385764-2243-42c7-9443-56b73c2f495d",
   "metadata": {},
   "outputs": [
    {
     "data": {
      "text/plain": [
       "['python', 'php', 'aba', 'radar', 'level']"
      ]
     },
     "execution_count": 19,
     "metadata": {},
     "output_type": "execute_result"
    }
   ],
   "source": [
    "list(filter(lambda x : len(x) <10 ,l3))"
   ]
  },
  {
   "cell_type": "code",
   "execution_count": null,
   "id": "60e1c2af-b63d-476f-8901-6cb482ceba83",
   "metadata": {},
   "outputs": [],
   "source": []
  },
  {
   "cell_type": "code",
   "execution_count": 4,
   "id": "f7c40b81-2ff6-4d59-ae29-29eb18ca03d0",
   "metadata": {},
   "outputs": [
    {
     "name": "stdout",
     "output_type": "stream",
     "text": [
      "[('Virat Kohli', 24936), ('Jack Kallis', 25534), ('Ricky Ponting', 27483), ('Sachin Tendulkar', 34357)]\n"
     ]
    }
   ],
   "source": [
    "def Sort_Tuple(l4):\n",
    "    return(sorted(l4, key = lambda x: x[1]))\n",
    "l4 = [('Sachin Tendulkar', 34357), ('Ricky Ponting', 27483), ('Jack Kallis', 25534), ('Virat Kohli', 24936)]\n",
    "print(Sort_Tuple(l4))"
   ]
  },
  {
   "cell_type": "code",
   "execution_count": null,
   "id": "fa4cd360-6ecf-40e1-834c-d6519975a1f3",
   "metadata": {},
   "outputs": [],
   "source": []
  }
 ],
 "metadata": {
  "kernelspec": {
   "display_name": "Python 3 (ipykernel)",
   "language": "python",
   "name": "python3"
  },
  "language_info": {
   "codemirror_mode": {
    "name": "ipython",
    "version": 3
   },
   "file_extension": ".py",
   "mimetype": "text/x-python",
   "name": "python",
   "nbconvert_exporter": "python",
   "pygments_lexer": "ipython3",
   "version": "3.10.8"
  }
 },
 "nbformat": 4,
 "nbformat_minor": 5
}
